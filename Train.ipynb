{
  "nbformat": 4,
  "nbformat_minor": 0,
  "metadata": {
    "colab": {
      "provenance": []
    },
    "kernelspec": {
      "name": "python3",
      "display_name": "Python 3"
    },
    "language_info": {
      "name": "python"
    },
    "gpuClass": "standard"
  },
  "cells": [
    {
      "cell_type": "code",
      "execution_count": 18,
      "metadata": {
        "id": "XPWg3IihwiZh"
      },
      "outputs": [],
      "source": [
        "import os\n",
        "import torch\n",
        "import torch.nn as nn\n",
        "import torch.nn.functional as F\n",
        "from torch.nn.utils.rnn import pad_sequence\n",
        "from torch.utils.data import Dataset\n",
        "import torchaudio\n",
        "import numpy as np\n",
        "from tqdm import tqdm\n",
        "import soundfile"
      ]
    },
    {
      "cell_type": "code",
      "source": [
        "device=torch.device(\"cuda\" if torch.cuda.is_available() else \"cpu\")\n",
        "print(f\"Using {device}\")"
      ],
      "metadata": {
        "colab": {
          "base_uri": "https://localhost:8080/"
        },
        "id": "utEJqgPYx7GQ",
        "outputId": "c5c92acc-f138-4164-bed5-96f6dc05fd62"
      },
      "execution_count": 19,
      "outputs": [
        {
          "output_type": "stream",
          "name": "stdout",
          "text": [
            "Using cpu\n"
          ]
        }
      ]
    },
    {
      "cell_type": "code",
      "source": [
        "epochs=50\n",
        "lr=0.001\n",
        "batch_size=32"
      ],
      "metadata": {
        "id": "lErndWPjx72G"
      },
      "execution_count": 20,
      "outputs": []
    },
    {
      "cell_type": "code",
      "source": [
        "class AudioDataset(Dataset):\n",
        "  def __init__(self,root):\n",
        "    self.dir_path=root\n",
        "    self.classes=os.listdir(self.dir_path)\n",
        "    print(self.classes)\n",
        "\n",
        "    self.data_paths=[]\n",
        "    self.labels=[]\n",
        "\n",
        "    for root ,dirs,files in os.walk(self.dir_path):\n",
        "      for file in files:\n",
        "\n",
        "        label=os.path.basename(root)\n",
        "        data_path=os.path.join(root,file)\n",
        "        self.data_paths.append(data_path)\n",
        "        self.labels.append(self.classes.index(label))\n",
        "    print(f\"{len(self.labels)} datas loaded from {len(set(self.labels))} classes\")\n",
        "\n",
        "\n",
        "  def __len__(self):\n",
        "    return len(self.labels)\n",
        "  \n",
        "\n",
        "  def __getitem__(self, index):\n",
        "    data_path = self.data_paths[index]\n",
        "    label = self.labels[index]\n",
        "    signal, sample_rate = torchaudio.load(data_path)\n",
        "    signal_mono = torch.mean(signal, dim=0, keepdim=True)\n",
        "\n",
        "    new_sample_rate = 8000\n",
        "    transform = torchaudio.transforms.Resample(orig_freq=sample_rate, new_freq=new_sample_rate)\n",
        "    signal_mono_transformed = transform(signal_mono)\n",
        "\n",
        "    return signal_mono_transformed, label"
      ],
      "metadata": {
        "id": "vxsqGxsqx2cr"
      },
      "execution_count": 21,
      "outputs": []
    },
    {
      "cell_type": "code",
      "source": [
        "dataset = AudioDataset(\"/content/drive/MyDrive/MusicClasiification/Dataset\")\n",
        "print(len(dataset))\n",
        "train_size = int(len(dataset)*0.8)\n",
        "test_size  = len(dataset)-train_size\n",
        "\n",
        "train_dataset,test_dataset=torch.utils.data.random_split(dataset,[train_size,test_size])\n",
        "\n",
        "train_data_loader=torch.utils.data.DataLoader(train_dataset,batch_size=batch_size,shuffle=True)\n",
        "test_data_loader=torch.utils.data.DataLoader(test_dataset,batch_size=batch_size,shuffle=True)"
      ],
      "metadata": {
        "colab": {
          "base_uri": "https://localhost:8080/"
        },
        "id": "kFtAbTtnx2eg",
        "outputId": "b025b6fe-2d4e-4c84-c590-fad98ea448ac"
      },
      "execution_count": 22,
      "outputs": [
        {
          "output_type": "stream",
          "name": "stdout",
          "text": [
            "['sajjad', 'zeynab', 'amir', 'hossein', 'parisa', 'nahid', 'maryam', 'alireza', 'zahra', 'morteza', 'mohammadali']\n",
            "1384 datas loaded from 11 classes\n",
            "1384\n"
          ]
        }
      ]
    },
    {
      "cell_type": "markdown",
      "source": [
        "##Model"
      ],
      "metadata": {
        "id": "hznBd5UaF_hh"
      }
    },
    {
      "cell_type": "code",
      "source": [
        "class M5(nn.Module):\n",
        "    def __init__(self, n_input=1, n_output=35, stride=8, n_channel=32):\n",
        "        super().__init__()\n",
        "        self.conv1 = nn.Conv1d(n_input, n_channel, kernel_size=80, stride=stride)\n",
        "        self.bn1 = nn.BatchNorm1d(n_channel)\n",
        "        self.pool1 = nn.MaxPool1d(4)\n",
        "        self.conv2 = nn.Conv1d(n_channel, n_channel, kernel_size=3)\n",
        "        self.bn2 = nn.BatchNorm1d(n_channel)\n",
        "        self.pool2 = nn.MaxPool1d(4)\n",
        "        self.conv3 = nn.Conv1d(n_channel, 2 * n_channel, kernel_size=3)\n",
        "        self.bn3 = nn.BatchNorm1d(2 * n_channel)\n",
        "        self.pool3 = nn.MaxPool1d(4)\n",
        "        self.conv4 = nn.Conv1d(2 * n_channel, 2 * n_channel, kernel_size=3)\n",
        "        self.bn4 = nn.BatchNorm1d(2 * n_channel)\n",
        "        self.pool4 = nn.MaxPool1d(4)\n",
        "        self.fc1 = nn.Linear(2 * n_channel, n_output)\n",
        "\n",
        "    def forward(self, x):\n",
        "        x = self.conv1(x)\n",
        "        x = F.relu(self.bn1(x))\n",
        "        x = self.pool1(x)\n",
        "        x = self.conv2(x)\n",
        "        x = F.relu(self.bn2(x))\n",
        "        x = self.pool2(x)\n",
        "        x = self.conv3(x)\n",
        "        x = F.relu(self.bn3(x))\n",
        "        x = self.pool3(x)\n",
        "        x = self.conv4(x)\n",
        "        x = F.relu(self.bn4(x))\n",
        "        x = self.pool4(x)\n",
        "        x = F.avg_pool1d(x, x.shape[-1])\n",
        "        x = torch.flatten(x, start_dim=1)\n",
        "        x = self.fc1(x)\n",
        "        x = F.softmax(x, dim=1)\n",
        "        return x\n",
        "\n",
        "    def accuracy(self, preds, labels):\n",
        "        maxs, indices = torch.max(preds, 1)\n",
        "        acc = torch.sum(indices == labels) / len(preds)\n",
        "        return acc.cpu()"
      ],
      "metadata": {
        "id": "OR1gr_8l5YLs"
      },
      "execution_count": 23,
      "outputs": []
    },
    {
      "cell_type": "code",
      "source": [
        "\n",
        "\n",
        "model = M5(n_output=11).to(device)\n",
        "print(model)\n",
        "\n",
        "# count_parameters\n",
        "n = sum(p.numel() for p in model.parameters() if p.requires_grad)\n",
        "print(\"Number of parameters: %s\" % n)\n",
        "\n"
      ],
      "metadata": {
        "colab": {
          "base_uri": "https://localhost:8080/"
        },
        "id": "dveuJZGYMEjj",
        "outputId": "c94c6d96-e3cb-44cc-99b5-bee9f41c1cc4"
      },
      "execution_count": 24,
      "outputs": [
        {
          "output_type": "stream",
          "name": "stdout",
          "text": [
            "M5(\n",
            "  (conv1): Conv1d(1, 32, kernel_size=(80,), stride=(8,))\n",
            "  (bn1): BatchNorm1d(32, eps=1e-05, momentum=0.1, affine=True, track_running_stats=True)\n",
            "  (pool1): MaxPool1d(kernel_size=4, stride=4, padding=0, dilation=1, ceil_mode=False)\n",
            "  (conv2): Conv1d(32, 32, kernel_size=(3,), stride=(1,))\n",
            "  (bn2): BatchNorm1d(32, eps=1e-05, momentum=0.1, affine=True, track_running_stats=True)\n",
            "  (pool2): MaxPool1d(kernel_size=4, stride=4, padding=0, dilation=1, ceil_mode=False)\n",
            "  (conv3): Conv1d(32, 64, kernel_size=(3,), stride=(1,))\n",
            "  (bn3): BatchNorm1d(64, eps=1e-05, momentum=0.1, affine=True, track_running_stats=True)\n",
            "  (pool3): MaxPool1d(kernel_size=4, stride=4, padding=0, dilation=1, ceil_mode=False)\n",
            "  (conv4): Conv1d(64, 64, kernel_size=(3,), stride=(1,))\n",
            "  (bn4): BatchNorm1d(64, eps=1e-05, momentum=0.1, affine=True, track_running_stats=True)\n",
            "  (pool4): MaxPool1d(kernel_size=4, stride=4, padding=0, dilation=1, ceil_mode=False)\n",
            "  (fc1): Linear(in_features=64, out_features=11, bias=True)\n",
            ")\n",
            "Number of parameters: 25355\n"
          ]
        }
      ]
    },
    {
      "cell_type": "code",
      "source": [
        "optimizer = torch.optim.Adam(model.parameters(), lr=lr)\n",
        "loss_function = nn.CrossEntropyLoss()"
      ],
      "metadata": {
        "id": "c1RmrneBMJz1"
      },
      "execution_count": 25,
      "outputs": []
    },
    {
      "cell_type": "code",
      "source": [
        "# train\n",
        "model.train()\n",
        "\n",
        "for epoch in range(epochs):\n",
        "    train_loss = 0.0\n",
        "    train_acc = 0.0\n",
        "    for audios, labels in tqdm(train_data_loader):\n",
        "        audios, labels = audios.to(device), labels.to(device)\n",
        "        labels_one_hot = torch.nn.functional.one_hot(labels, num_classes=11).type(torch.FloatTensor).to(device)\n",
        "        optimizer.zero_grad()\n",
        "\n",
        "        preds = model(audios)\n",
        "        loss = loss_function(preds, labels_one_hot)\n",
        "        \n",
        "        loss.backward()\n",
        "        optimizer.step()\n",
        "\n",
        "        train_loss += loss\n",
        "        train_acc += model.accuracy(preds, labels)\n",
        "    \n",
        "    total_loss = train_loss / len(train_data_loader)\n",
        "    total_acc = train_acc / len(train_data_loader)\n",
        "\n",
        "    print(f\"Epoch: {epoch}, Loss: {total_loss}, Acc: {total_acc}\")\n",
        "\n"
      ],
      "metadata": {
        "colab": {
          "base_uri": "https://localhost:8080/"
        },
        "id": "pZHolncGMMTe",
        "outputId": "88b3d27e-36a4-4a6d-904c-c13ee90e2c14"
      },
      "execution_count": 26,
      "outputs": [
        {
          "output_type": "stream",
          "name": "stderr",
          "text": [
            "100%|██████████| 35/35 [00:09<00:00,  3.55it/s]\n"
          ]
        },
        {
          "output_type": "stream",
          "name": "stdout",
          "text": [
            "Epoch: 0, Loss: 2.293881416320801, Acc: 0.37128758430480957\n"
          ]
        },
        {
          "output_type": "stream",
          "name": "stderr",
          "text": [
            "100%|██████████| 35/35 [00:08<00:00,  4.29it/s]\n"
          ]
        },
        {
          "output_type": "stream",
          "name": "stdout",
          "text": [
            "Epoch: 1, Loss: 2.149981737136841, Acc: 0.5320488810539246\n"
          ]
        },
        {
          "output_type": "stream",
          "name": "stderr",
          "text": [
            "100%|██████████| 35/35 [00:09<00:00,  3.51it/s]\n"
          ]
        },
        {
          "output_type": "stream",
          "name": "stdout",
          "text": [
            "Epoch: 2, Loss: 2.040191173553467, Acc: 0.589191734790802\n"
          ]
        },
        {
          "output_type": "stream",
          "name": "stderr",
          "text": [
            "100%|██████████| 35/35 [00:07<00:00,  4.64it/s]\n"
          ]
        },
        {
          "output_type": "stream",
          "name": "stdout",
          "text": [
            "Epoch: 3, Loss: 1.9612280130386353, Acc: 0.6618421077728271\n"
          ]
        },
        {
          "output_type": "stream",
          "name": "stderr",
          "text": [
            "100%|██████████| 35/35 [00:07<00:00,  4.76it/s]\n"
          ]
        },
        {
          "output_type": "stream",
          "name": "stdout",
          "text": [
            "Epoch: 4, Loss: 1.8687164783477783, Acc: 0.7808740139007568\n"
          ]
        },
        {
          "output_type": "stream",
          "name": "stderr",
          "text": [
            "100%|██████████| 35/35 [00:08<00:00,  4.26it/s]\n"
          ]
        },
        {
          "output_type": "stream",
          "name": "stdout",
          "text": [
            "Epoch: 5, Loss: 1.800991415977478, Acc: 0.824953019618988\n"
          ]
        },
        {
          "output_type": "stream",
          "name": "stderr",
          "text": [
            "100%|██████████| 35/35 [00:07<00:00,  4.72it/s]\n"
          ]
        },
        {
          "output_type": "stream",
          "name": "stdout",
          "text": [
            "Epoch: 6, Loss: 1.7708051204681396, Acc: 0.8380168676376343\n"
          ]
        },
        {
          "output_type": "stream",
          "name": "stderr",
          "text": [
            "100%|██████████| 35/35 [00:07<00:00,  4.90it/s]\n"
          ]
        },
        {
          "output_type": "stream",
          "name": "stdout",
          "text": [
            "Epoch: 7, Loss: 1.7469348907470703, Acc: 0.8487311601638794\n"
          ]
        },
        {
          "output_type": "stream",
          "name": "stderr",
          "text": [
            "100%|██████████| 35/35 [00:07<00:00,  4.60it/s]\n"
          ]
        },
        {
          "output_type": "stream",
          "name": "stdout",
          "text": [
            "Epoch: 8, Loss: 1.722741961479187, Acc: 0.8678101897239685\n"
          ]
        },
        {
          "output_type": "stream",
          "name": "stderr",
          "text": [
            "100%|██████████| 35/35 [00:07<00:00,  4.72it/s]\n"
          ]
        },
        {
          "output_type": "stream",
          "name": "stdout",
          "text": [
            "Epoch: 9, Loss: 1.7201939821243286, Acc: 0.8734492659568787\n"
          ]
        },
        {
          "output_type": "stream",
          "name": "stderr",
          "text": [
            "100%|██████████| 35/35 [00:07<00:00,  4.84it/s]\n"
          ]
        },
        {
          "output_type": "stream",
          "name": "stdout",
          "text": [
            "Epoch: 10, Loss: 1.6984659433364868, Acc: 0.8907424807548523\n"
          ]
        },
        {
          "output_type": "stream",
          "name": "stderr",
          "text": [
            "100%|██████████| 35/35 [00:07<00:00,  4.96it/s]\n"
          ]
        },
        {
          "output_type": "stream",
          "name": "stdout",
          "text": [
            "Epoch: 11, Loss: 1.68107271194458, Acc: 0.9109962582588196\n"
          ]
        },
        {
          "output_type": "stream",
          "name": "stderr",
          "text": [
            "100%|██████████| 35/35 [00:07<00:00,  4.86it/s]\n"
          ]
        },
        {
          "output_type": "stream",
          "name": "stdout",
          "text": [
            "Epoch: 12, Loss: 1.6626230478286743, Acc: 0.9228853583335876\n"
          ]
        },
        {
          "output_type": "stream",
          "name": "stderr",
          "text": [
            "100%|██████████| 35/35 [00:07<00:00,  4.69it/s]\n"
          ]
        },
        {
          "output_type": "stream",
          "name": "stdout",
          "text": [
            "Epoch: 13, Loss: 1.6549856662750244, Acc: 0.9297462701797485\n"
          ]
        },
        {
          "output_type": "stream",
          "name": "stderr",
          "text": [
            "100%|██████████| 35/35 [00:07<00:00,  4.54it/s]\n"
          ]
        },
        {
          "output_type": "stream",
          "name": "stdout",
          "text": [
            "Epoch: 14, Loss: 1.6395279169082642, Acc: 0.9359962344169617\n"
          ]
        },
        {
          "output_type": "stream",
          "name": "stderr",
          "text": [
            "100%|██████████| 35/35 [00:07<00:00,  4.91it/s]\n"
          ]
        },
        {
          "output_type": "stream",
          "name": "stdout",
          "text": [
            "Epoch: 15, Loss: 1.6374763250350952, Acc: 0.9410714507102966\n"
          ]
        },
        {
          "output_type": "stream",
          "name": "stderr",
          "text": [
            "100%|██████████| 35/35 [00:07<00:00,  4.69it/s]\n"
          ]
        },
        {
          "output_type": "stream",
          "name": "stdout",
          "text": [
            "Epoch: 16, Loss: 1.635820984840393, Acc: 0.9389567971229553\n"
          ]
        },
        {
          "output_type": "stream",
          "name": "stderr",
          "text": [
            "100%|██████████| 35/35 [00:07<00:00,  4.75it/s]\n"
          ]
        },
        {
          "output_type": "stream",
          "name": "stdout",
          "text": [
            "Epoch: 17, Loss: 1.634590744972229, Acc: 0.9359962344169617\n"
          ]
        },
        {
          "output_type": "stream",
          "name": "stderr",
          "text": [
            "100%|██████████| 35/35 [00:06<00:00,  5.06it/s]\n"
          ]
        },
        {
          "output_type": "stream",
          "name": "stdout",
          "text": [
            "Epoch: 18, Loss: 1.6194764375686646, Acc: 0.9532424807548523\n"
          ]
        },
        {
          "output_type": "stream",
          "name": "stderr",
          "text": [
            "100%|██████████| 35/35 [00:07<00:00,  4.88it/s]\n"
          ]
        },
        {
          "output_type": "stream",
          "name": "stdout",
          "text": [
            "Epoch: 19, Loss: 1.6176259517669678, Acc: 0.9493891000747681\n"
          ]
        },
        {
          "output_type": "stream",
          "name": "stderr",
          "text": [
            "100%|██████████| 35/35 [00:07<00:00,  4.60it/s]\n"
          ]
        },
        {
          "output_type": "stream",
          "name": "stdout",
          "text": [
            "Epoch: 20, Loss: 1.6113109588623047, Acc: 0.956250011920929\n"
          ]
        },
        {
          "output_type": "stream",
          "name": "stderr",
          "text": [
            "100%|██████████| 35/35 [00:07<00:00,  4.91it/s]\n"
          ]
        },
        {
          "output_type": "stream",
          "name": "stdout",
          "text": [
            "Epoch: 21, Loss: 1.6050565242767334, Acc: 0.9574248194694519\n"
          ]
        },
        {
          "output_type": "stream",
          "name": "stderr",
          "text": [
            "100%|██████████| 35/35 [00:07<00:00,  4.72it/s]\n"
          ]
        },
        {
          "output_type": "stream",
          "name": "stdout",
          "text": [
            "Epoch: 22, Loss: 1.6013597249984741, Acc: 0.9618890881538391\n"
          ]
        },
        {
          "output_type": "stream",
          "name": "stderr",
          "text": [
            "100%|██████████| 35/35 [00:07<00:00,  4.52it/s]\n"
          ]
        },
        {
          "output_type": "stream",
          "name": "stdout",
          "text": [
            "Epoch: 23, Loss: 1.5992989540100098, Acc: 0.9616071581840515\n"
          ]
        },
        {
          "output_type": "stream",
          "name": "stderr",
          "text": [
            "100%|██████████| 35/35 [00:07<00:00,  4.49it/s]\n"
          ]
        },
        {
          "output_type": "stream",
          "name": "stdout",
          "text": [
            "Epoch: 24, Loss: 1.5998594760894775, Acc: 0.9580357074737549\n"
          ]
        },
        {
          "output_type": "stream",
          "name": "stderr",
          "text": [
            "100%|██████████| 35/35 [00:07<00:00,  4.49it/s]\n"
          ]
        },
        {
          "output_type": "stream",
          "name": "stdout",
          "text": [
            "Epoch: 25, Loss: 1.6010105609893799, Acc: 0.9645676612854004\n"
          ]
        },
        {
          "output_type": "stream",
          "name": "stderr",
          "text": [
            "100%|██████████| 35/35 [00:07<00:00,  4.79it/s]\n"
          ]
        },
        {
          "output_type": "stream",
          "name": "stdout",
          "text": [
            "Epoch: 26, Loss: 1.594930648803711, Acc: 0.9633928537368774\n"
          ]
        },
        {
          "output_type": "stream",
          "name": "stderr",
          "text": [
            "100%|██████████| 35/35 [00:07<00:00,  4.66it/s]\n"
          ]
        },
        {
          "output_type": "stream",
          "name": "stdout",
          "text": [
            "Epoch: 27, Loss: 1.5939571857452393, Acc: 0.969924807548523\n"
          ]
        },
        {
          "output_type": "stream",
          "name": "stderr",
          "text": [
            "100%|██████████| 35/35 [00:07<00:00,  4.86it/s]\n"
          ]
        },
        {
          "output_type": "stream",
          "name": "stdout",
          "text": [
            "Epoch: 28, Loss: 1.5907865762710571, Acc: 0.969924807548523\n"
          ]
        },
        {
          "output_type": "stream",
          "name": "stderr",
          "text": [
            "100%|██████████| 35/35 [00:09<00:00,  3.61it/s]\n"
          ]
        },
        {
          "output_type": "stream",
          "name": "stdout",
          "text": [
            "Epoch: 29, Loss: 1.5889170169830322, Acc: 0.9678571224212646\n"
          ]
        },
        {
          "output_type": "stream",
          "name": "stderr",
          "text": [
            "100%|██████████| 35/35 [00:07<00:00,  4.86it/s]\n"
          ]
        },
        {
          "output_type": "stream",
          "name": "stdout",
          "text": [
            "Epoch: 30, Loss: 1.5907667875289917, Acc: 0.9672462344169617\n"
          ]
        },
        {
          "output_type": "stream",
          "name": "stderr",
          "text": [
            "100%|██████████| 35/35 [00:07<00:00,  4.64it/s]\n"
          ]
        },
        {
          "output_type": "stream",
          "name": "stdout",
          "text": [
            "Epoch: 31, Loss: 1.5844792127609253, Acc: 0.9714285731315613\n"
          ]
        },
        {
          "output_type": "stream",
          "name": "stderr",
          "text": [
            "100%|██████████| 35/35 [00:07<00:00,  4.91it/s]\n"
          ]
        },
        {
          "output_type": "stream",
          "name": "stdout",
          "text": [
            "Epoch: 32, Loss: 1.5846906900405884, Acc: 0.9705356955528259\n"
          ]
        },
        {
          "output_type": "stream",
          "name": "stderr",
          "text": [
            "100%|██████████| 35/35 [00:07<00:00,  4.92it/s]\n"
          ]
        },
        {
          "output_type": "stream",
          "name": "stdout",
          "text": [
            "Epoch: 33, Loss: 1.5854365825653076, Acc: 0.968139111995697\n"
          ]
        },
        {
          "output_type": "stream",
          "name": "stderr",
          "text": [
            "100%|██████████| 35/35 [00:07<00:00,  4.99it/s]\n"
          ]
        },
        {
          "output_type": "stream",
          "name": "stdout",
          "text": [
            "Epoch: 34, Loss: 1.5806952714920044, Acc: 0.9743890762329102\n"
          ]
        },
        {
          "output_type": "stream",
          "name": "stderr",
          "text": [
            "100%|██████████| 35/35 [00:07<00:00,  4.82it/s]\n"
          ]
        },
        {
          "output_type": "stream",
          "name": "stdout",
          "text": [
            "Epoch: 35, Loss: 1.587461233139038, Acc: 0.9672462344169617\n"
          ]
        },
        {
          "output_type": "stream",
          "name": "stderr",
          "text": [
            "100%|██████████| 35/35 [00:07<00:00,  4.73it/s]\n"
          ]
        },
        {
          "output_type": "stream",
          "name": "stdout",
          "text": [
            "Epoch: 36, Loss: 1.579916000366211, Acc: 0.9723214507102966\n"
          ]
        },
        {
          "output_type": "stream",
          "name": "stderr",
          "text": [
            "100%|██████████| 35/35 [00:07<00:00,  4.87it/s]\n"
          ]
        },
        {
          "output_type": "stream",
          "name": "stdout",
          "text": [
            "Epoch: 37, Loss: 1.5799757242202759, Acc: 0.968139111995697\n"
          ]
        },
        {
          "output_type": "stream",
          "name": "stderr",
          "text": [
            "100%|██████████| 35/35 [00:07<00:00,  4.73it/s]\n"
          ]
        },
        {
          "output_type": "stream",
          "name": "stdout",
          "text": [
            "Epoch: 38, Loss: 1.5820120573043823, Acc: 0.9717105031013489\n"
          ]
        },
        {
          "output_type": "stream",
          "name": "stderr",
          "text": [
            "100%|██████████| 35/35 [00:07<00:00,  4.95it/s]\n"
          ]
        },
        {
          "output_type": "stream",
          "name": "stdout",
          "text": [
            "Epoch: 39, Loss: 1.6041148900985718, Acc: 0.9553571343421936\n"
          ]
        },
        {
          "output_type": "stream",
          "name": "stderr",
          "text": [
            "100%|██████████| 35/35 [00:07<00:00,  4.82it/s]\n"
          ]
        },
        {
          "output_type": "stream",
          "name": "stdout",
          "text": [
            "Epoch: 40, Loss: 1.5988109111785889, Acc: 0.9603853225708008\n"
          ]
        },
        {
          "output_type": "stream",
          "name": "stderr",
          "text": [
            "100%|██████████| 35/35 [00:07<00:00,  4.89it/s]\n"
          ]
        },
        {
          "output_type": "stream",
          "name": "stdout",
          "text": [
            "Epoch: 41, Loss: 1.5963910818099976, Acc: 0.9621710777282715\n"
          ]
        },
        {
          "output_type": "stream",
          "name": "stderr",
          "text": [
            "100%|██████████| 35/35 [00:07<00:00,  4.96it/s]\n"
          ]
        },
        {
          "output_type": "stream",
          "name": "stdout",
          "text": [
            "Epoch: 42, Loss: 1.5913654565811157, Acc: 0.9627819657325745\n"
          ]
        },
        {
          "output_type": "stream",
          "name": "stderr",
          "text": [
            "100%|██████████| 35/35 [00:07<00:00,  4.81it/s]\n"
          ]
        },
        {
          "output_type": "stream",
          "name": "stdout",
          "text": [
            "Epoch: 43, Loss: 1.5782586336135864, Acc: 0.9734962582588196\n"
          ]
        },
        {
          "output_type": "stream",
          "name": "stderr",
          "text": [
            "100%|██████████| 35/35 [00:07<00:00,  4.66it/s]\n"
          ]
        },
        {
          "output_type": "stream",
          "name": "stdout",
          "text": [
            "Epoch: 44, Loss: 1.5763903856277466, Acc: 0.9750000238418579\n"
          ]
        },
        {
          "output_type": "stream",
          "name": "stderr",
          "text": [
            "100%|██████████| 35/35 [00:07<00:00,  4.89it/s]\n"
          ]
        },
        {
          "output_type": "stream",
          "name": "stdout",
          "text": [
            "Epoch: 45, Loss: 1.5833202600479126, Acc: 0.9669643044471741\n"
          ]
        },
        {
          "output_type": "stream",
          "name": "stderr",
          "text": [
            "100%|██████████| 35/35 [00:07<00:00,  4.75it/s]\n"
          ]
        },
        {
          "output_type": "stream",
          "name": "stdout",
          "text": [
            "Epoch: 46, Loss: 1.5844258069992065, Acc: 0.9660714268684387\n"
          ]
        },
        {
          "output_type": "stream",
          "name": "stderr",
          "text": [
            "100%|██████████| 35/35 [00:07<00:00,  4.88it/s]\n"
          ]
        },
        {
          "output_type": "stream",
          "name": "stdout",
          "text": [
            "Epoch: 47, Loss: 1.5827075242996216, Acc: 0.96875\n"
          ]
        },
        {
          "output_type": "stream",
          "name": "stderr",
          "text": [
            "100%|██████████| 35/35 [00:07<00:00,  4.90it/s]\n"
          ]
        },
        {
          "output_type": "stream",
          "name": "stdout",
          "text": [
            "Epoch: 48, Loss: 1.5820802450180054, Acc: 0.9717105031013489\n"
          ]
        },
        {
          "output_type": "stream",
          "name": "stderr",
          "text": [
            "100%|██████████| 35/35 [00:07<00:00,  4.97it/s]"
          ]
        },
        {
          "output_type": "stream",
          "name": "stdout",
          "text": [
            "Epoch: 49, Loss: 1.5841917991638184, Acc: 0.9669643044471741\n"
          ]
        },
        {
          "output_type": "stream",
          "name": "stderr",
          "text": [
            "\n"
          ]
        }
      ]
    },
    {
      "cell_type": "code",
      "source": [
        "model.eval()\n",
        "\n",
        "test_loss = 0.0\n",
        "test_acc = 0.0\n",
        "for audios, labels in tqdm(test_data_loader):\n",
        "    audios, labels = audios.to(device), labels.to(device)\n",
        "    labels_one_hot = torch.nn.functional.one_hot(labels, num_classes=11).type(torch.FloatTensor).to(device)\n",
        "\n",
        "    preds = model(audios)\n",
        "    loss = loss_function(preds, labels_one_hot)\n",
        "\n",
        "    test_loss += loss\n",
        "    test_acc += model.accuracy(preds, labels)\n",
        "\n",
        "total_loss = test_loss / len(test_data_loader)\n",
        "total_acc = test_acc / len(test_data_loader)\n",
        "\n",
        "print(f\"Loss: {total_loss}, Acc: {total_acc}\")"
      ],
      "metadata": {
        "colab": {
          "base_uri": "https://localhost:8080/"
        },
        "id": "GWMEqdsORyBt",
        "outputId": "abe6acc1-3a6a-4863-a082-d6434e3a1496"
      },
      "execution_count": 27,
      "outputs": [
        {
          "output_type": "stream",
          "name": "stderr",
          "text": [
            "100%|██████████| 9/9 [00:01<00:00,  5.26it/s]"
          ]
        },
        {
          "output_type": "stream",
          "name": "stdout",
          "text": [
            "Loss: 1.628161907196045, Acc: 0.9426257014274597\n"
          ]
        },
        {
          "output_type": "stream",
          "name": "stderr",
          "text": [
            "\n"
          ]
        }
      ]
    },
    {
      "cell_type": "code",
      "source": [
        "torch.save(model.state_dict(), \"weights.pth\")"
      ],
      "metadata": {
        "id": "hn5U_BXJRx6g"
      },
      "execution_count": 28,
      "outputs": []
    },
    {
      "cell_type": "code",
      "source": [
        "# Inference\n",
        "\n",
        "signal, sample_rate = torchaudio.load(\"/content/zeynab_1.ogg\")\n",
        "\n",
        "# preprocess\n",
        "signal = torch.mean(signal, dim=0, keepdim=True)\n",
        "new_sample_rate = 8000\n",
        "transform = torchaudio.transforms.Resample(orig_freq=sample_rate, new_freq=new_sample_rate)\n",
        "signal = transform(signal)\n",
        "signal = signal[:, 32000:40000]\n",
        "signal = signal.unsqueeze(0).to(device)\n",
        "\n",
        "# process\n",
        "preds = model(signal)\n",
        "\n",
        "# postprocess\n",
        "preds = preds.cpu().detach().numpy()\n",
        "output = np.argmax(preds)\n",
        "print(output)"
      ],
      "metadata": {
        "colab": {
          "base_uri": "https://localhost:8080/"
        },
        "id": "bIefDhdJs-bQ",
        "outputId": "2d7f6844-80bf-472e-b64a-6124f6a61e2c"
      },
      "execution_count": 29,
      "outputs": [
        {
          "output_type": "stream",
          "name": "stdout",
          "text": [
            "1\n"
          ]
        }
      ]
    },
    {
      "cell_type": "markdown",
      "source": [
        "# Inference"
      ],
      "metadata": {
        "id": "TIZGOzWuGJ3a"
      }
    },
    {
      "cell_type": "code",
      "source": [
        "!pip install telebot\n",
        "!pip install pyTelegramBotAPI"
      ],
      "metadata": {
        "colab": {
          "base_uri": "https://localhost:8080/"
        },
        "id": "qWpixrVGs-tM",
        "outputId": "2dd05ff2-ed16-4656-f488-d20066cb1cf4"
      },
      "execution_count": 30,
      "outputs": [
        {
          "output_type": "stream",
          "name": "stdout",
          "text": [
            "Looking in indexes: https://pypi.org/simple, https://us-python.pkg.dev/colab-wheels/public/simple/\n",
            "Requirement already satisfied: telebot in /usr/local/lib/python3.8/dist-packages (0.0.4)\n",
            "Requirement already satisfied: requests in /usr/local/lib/python3.8/dist-packages (from telebot) (2.25.1)\n",
            "Requirement already satisfied: chardet<5,>=3.0.2 in /usr/local/lib/python3.8/dist-packages (from requests->telebot) (4.0.0)\n",
            "Requirement already satisfied: certifi>=2017.4.17 in /usr/local/lib/python3.8/dist-packages (from requests->telebot) (2022.12.7)\n",
            "Requirement already satisfied: urllib3<1.27,>=1.21.1 in /usr/local/lib/python3.8/dist-packages (from requests->telebot) (1.24.3)\n",
            "Requirement already satisfied: idna<3,>=2.5 in /usr/local/lib/python3.8/dist-packages (from requests->telebot) (2.10)\n",
            "Looking in indexes: https://pypi.org/simple, https://us-python.pkg.dev/colab-wheels/public/simple/\n",
            "Requirement already satisfied: pyTelegramBotAPI in /usr/local/lib/python3.8/dist-packages (4.9.0)\n",
            "Requirement already satisfied: requests in /usr/local/lib/python3.8/dist-packages (from pyTelegramBotAPI) (2.25.1)\n",
            "Requirement already satisfied: idna<3,>=2.5 in /usr/local/lib/python3.8/dist-packages (from requests->pyTelegramBotAPI) (2.10)\n",
            "Requirement already satisfied: urllib3<1.27,>=1.21.1 in /usr/local/lib/python3.8/dist-packages (from requests->pyTelegramBotAPI) (1.24.3)\n",
            "Requirement already satisfied: chardet<5,>=3.0.2 in /usr/local/lib/python3.8/dist-packages (from requests->pyTelegramBotAPI) (4.0.0)\n",
            "Requirement already satisfied: certifi>=2017.4.17 in /usr/local/lib/python3.8/dist-packages (from requests->pyTelegramBotAPI) (2022.12.7)\n"
          ]
        }
      ]
    },
    {
      "cell_type": "code",
      "source": [
        "import telebot"
      ],
      "metadata": {
        "id": "j60DLTN7I9Ot"
      },
      "execution_count": 31,
      "outputs": []
    },
    {
      "cell_type": "code",
      "source": [
        "ID=['sajjad', 'zeynab', 'amir', 'hossein', 'parisa', 'nahid', 'maryam', 'alireza', 'zahra', 'morteza', 'mohammadali']"
      ],
      "metadata": {
        "id": "kvpBlPPSDcBt"
      },
      "execution_count": 37,
      "outputs": []
    },
    {
      "cell_type": "code",
      "source": [
        "ID[1]"
      ],
      "metadata": {
        "colab": {
          "base_uri": "https://localhost:8080/",
          "height": 35
        },
        "id": "tH2NMmbPEWx7",
        "outputId": "89a4f14b-876e-47db-80b4-20b02837223f"
      },
      "execution_count": 42,
      "outputs": [
        {
          "output_type": "execute_result",
          "data": {
            "text/plain": [
              "'zeynab'"
            ],
            "application/vnd.google.colaboratory.intrinsic+json": {
              "type": "string"
            }
          },
          "metadata": {},
          "execution_count": 42
        }
      ]
    },
    {
      "cell_type": "code",
      "source": [
        "bot = telebot.TeleBot(\"\")"
      ],
      "metadata": {
        "id": "-Diz5b8iUORi"
      },
      "execution_count": 44,
      "outputs": []
    },
    {
      "cell_type": "code",
      "source": [
        "@bot.message_handler(commands=['start'])\n",
        "def say_hi(messages):\n",
        "    bot.send_message(\n",
        "        messages.chat.id, f'Hi {messages.from_user.first_name} Dear😎 ')\n",
        "    bot.send_message(\n",
        "        messages.chat.id, f' Now send me your voice  ☺...')\n",
        "@bot.message_handler(content_types=['voice'])\n",
        "def voice(message):\n",
        "    audio_info = bot.get_file(message.voice.file_id)\n",
        "    downloaded_file = bot.download_file(audio_info.file_path)\n",
        "    src = audio_info.file_path\n",
        "\n",
        "    with open(src, 'wb') as audio_file:\n",
        "        audio_file.write(downloaded_file)\n",
        "    \n",
        "    signal, sample_rate = torchaudio.load(src)\n",
        "    \n",
        "    signal = torch.mean(signal, dim=0, keepdim=True)\n",
        "    transform = torchaudio.transforms.Resample(orig_freq=sample_rate, new_freq=8000)\n",
        "    signal = transform(signal)\n",
        "    signal = signal.unsqueeze(0).to(device)\n",
        "     \n",
        "    preds = model(signal)\n",
        "   \n",
        "    preds = preds.cpu().detach().numpy()\n",
        "    output = np.argmax(preds)\n",
        "    \n",
        "    bot.reply_to(message, ID[output])\n",
        "    print(output)\n",
        "\n",
        "bot.polling()"
      ],
      "metadata": {
        "id": "n5GYSGbvUNzi",
        "colab": {
          "base_uri": "https://localhost:8080/"
        },
        "outputId": "deb0ff29-6b64-4a33-89cc-0a44dab254c1"
      },
      "execution_count": 46,
      "outputs": [
        {
          "output_type": "stream",
          "name": "stdout",
          "text": [
            "6\n",
            "0\n",
            "10\n"
          ]
        }
      ]
    },
    {
      "cell_type": "code",
      "source": [],
      "metadata": {
        "id": "ghu8hJMoI9Mc"
      },
      "execution_count": 33,
      "outputs": []
    },
    {
      "cell_type": "code",
      "source": [],
      "metadata": {
        "id": "_PhmZYc4VGqs"
      },
      "execution_count": 33,
      "outputs": []
    },
    {
      "cell_type": "code",
      "source": [],
      "metadata": {
        "id": "yiIj97NIVGe0"
      },
      "execution_count": 33,
      "outputs": []
    }
  ]
}